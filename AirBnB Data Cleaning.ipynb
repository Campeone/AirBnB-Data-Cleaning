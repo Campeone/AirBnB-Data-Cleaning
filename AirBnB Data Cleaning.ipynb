{
 "cells": [
  {
   "cell_type": "code",
   "execution_count": 1,
   "id": "85507e9a",
   "metadata": {},
   "outputs": [],
   "source": [
    "# import necessary libararies \n",
    "import numpy as np \n",
    "import pandas as pd \n",
    "import matplotlib.pyplot as plt \n",
    "import seaborn as sns \n",
    "%matplotlib inline \n",
    "sns.set()"
   ]
  },
  {
   "cell_type": "code",
   "execution_count": 2,
   "id": "fb1ba569",
   "metadata": {},
   "outputs": [
    {
     "name": "stderr",
     "output_type": "stream",
     "text": [
      "C:\\Users\\OJO Timilehin\\anaconda3\\lib\\site-packages\\IPython\\core\\interactiveshell.py:3165: DtypeWarning: Columns (25) have mixed types.Specify dtype option on import or set low_memory=False.\n",
      "  has_raised = await self.run_ast_nodes(code_ast.body, cell_name,\n"
     ]
    }
   ],
   "source": [
    "# load dataset \n",
    "airb = pd.read_csv('Desktop/Airbnb_Open_Data.csv')"
   ]
  },
  {
   "cell_type": "code",
   "execution_count": 3,
   "id": "55728933",
   "metadata": {},
   "outputs": [
    {
     "data": {
      "text/html": [
       "<div>\n",
       "<style scoped>\n",
       "    .dataframe tbody tr th:only-of-type {\n",
       "        vertical-align: middle;\n",
       "    }\n",
       "\n",
       "    .dataframe tbody tr th {\n",
       "        vertical-align: top;\n",
       "    }\n",
       "\n",
       "    .dataframe thead th {\n",
       "        text-align: right;\n",
       "    }\n",
       "</style>\n",
       "<table border=\"1\" class=\"dataframe\">\n",
       "  <thead>\n",
       "    <tr style=\"text-align: right;\">\n",
       "      <th></th>\n",
       "      <th>id</th>\n",
       "      <th>NAME</th>\n",
       "      <th>host id</th>\n",
       "      <th>host_identity_verified</th>\n",
       "      <th>host name</th>\n",
       "      <th>neighbourhood group</th>\n",
       "      <th>neighbourhood</th>\n",
       "      <th>lat</th>\n",
       "      <th>long</th>\n",
       "      <th>country</th>\n",
       "      <th>...</th>\n",
       "      <th>service fee</th>\n",
       "      <th>minimum nights</th>\n",
       "      <th>number of reviews</th>\n",
       "      <th>last review</th>\n",
       "      <th>reviews per month</th>\n",
       "      <th>review rate number</th>\n",
       "      <th>calculated host listings count</th>\n",
       "      <th>availability 365</th>\n",
       "      <th>house_rules</th>\n",
       "      <th>license</th>\n",
       "    </tr>\n",
       "  </thead>\n",
       "  <tbody>\n",
       "    <tr>\n",
       "      <th>0</th>\n",
       "      <td>1001254</td>\n",
       "      <td>Clean &amp; quiet apt home by the park</td>\n",
       "      <td>80014485718</td>\n",
       "      <td>unconfirmed</td>\n",
       "      <td>Madaline</td>\n",
       "      <td>Brooklyn</td>\n",
       "      <td>Kensington</td>\n",
       "      <td>40.64749</td>\n",
       "      <td>-73.97237</td>\n",
       "      <td>United States</td>\n",
       "      <td>...</td>\n",
       "      <td>$193</td>\n",
       "      <td>10.0</td>\n",
       "      <td>9.0</td>\n",
       "      <td>10/19/2021</td>\n",
       "      <td>0.21</td>\n",
       "      <td>4.0</td>\n",
       "      <td>6.0</td>\n",
       "      <td>286.0</td>\n",
       "      <td>Clean up and treat the home the way you'd like...</td>\n",
       "      <td>NaN</td>\n",
       "    </tr>\n",
       "    <tr>\n",
       "      <th>1</th>\n",
       "      <td>1002102</td>\n",
       "      <td>Skylit Midtown Castle</td>\n",
       "      <td>52335172823</td>\n",
       "      <td>verified</td>\n",
       "      <td>Jenna</td>\n",
       "      <td>Manhattan</td>\n",
       "      <td>Midtown</td>\n",
       "      <td>40.75362</td>\n",
       "      <td>-73.98377</td>\n",
       "      <td>United States</td>\n",
       "      <td>...</td>\n",
       "      <td>$28</td>\n",
       "      <td>30.0</td>\n",
       "      <td>45.0</td>\n",
       "      <td>5/21/2022</td>\n",
       "      <td>0.38</td>\n",
       "      <td>4.0</td>\n",
       "      <td>2.0</td>\n",
       "      <td>228.0</td>\n",
       "      <td>Pet friendly but please confirm with me if the...</td>\n",
       "      <td>NaN</td>\n",
       "    </tr>\n",
       "    <tr>\n",
       "      <th>2</th>\n",
       "      <td>1002403</td>\n",
       "      <td>THE VILLAGE OF HARLEM....NEW YORK !</td>\n",
       "      <td>78829239556</td>\n",
       "      <td>NaN</td>\n",
       "      <td>Elise</td>\n",
       "      <td>Manhattan</td>\n",
       "      <td>Harlem</td>\n",
       "      <td>40.80902</td>\n",
       "      <td>-73.94190</td>\n",
       "      <td>United States</td>\n",
       "      <td>...</td>\n",
       "      <td>$124</td>\n",
       "      <td>3.0</td>\n",
       "      <td>0.0</td>\n",
       "      <td>NaN</td>\n",
       "      <td>NaN</td>\n",
       "      <td>5.0</td>\n",
       "      <td>1.0</td>\n",
       "      <td>352.0</td>\n",
       "      <td>I encourage you to use my kitchen, cooking and...</td>\n",
       "      <td>NaN</td>\n",
       "    </tr>\n",
       "    <tr>\n",
       "      <th>3</th>\n",
       "      <td>1002755</td>\n",
       "      <td>NaN</td>\n",
       "      <td>85098326012</td>\n",
       "      <td>unconfirmed</td>\n",
       "      <td>Garry</td>\n",
       "      <td>Brooklyn</td>\n",
       "      <td>Clinton Hill</td>\n",
       "      <td>40.68514</td>\n",
       "      <td>-73.95976</td>\n",
       "      <td>United States</td>\n",
       "      <td>...</td>\n",
       "      <td>$74</td>\n",
       "      <td>30.0</td>\n",
       "      <td>270.0</td>\n",
       "      <td>7/5/2019</td>\n",
       "      <td>4.64</td>\n",
       "      <td>4.0</td>\n",
       "      <td>1.0</td>\n",
       "      <td>322.0</td>\n",
       "      <td>NaN</td>\n",
       "      <td>NaN</td>\n",
       "    </tr>\n",
       "    <tr>\n",
       "      <th>4</th>\n",
       "      <td>1003689</td>\n",
       "      <td>Entire Apt: Spacious Studio/Loft by central park</td>\n",
       "      <td>92037596077</td>\n",
       "      <td>verified</td>\n",
       "      <td>Lyndon</td>\n",
       "      <td>Manhattan</td>\n",
       "      <td>East Harlem</td>\n",
       "      <td>40.79851</td>\n",
       "      <td>-73.94399</td>\n",
       "      <td>United States</td>\n",
       "      <td>...</td>\n",
       "      <td>$41</td>\n",
       "      <td>10.0</td>\n",
       "      <td>9.0</td>\n",
       "      <td>11/19/2018</td>\n",
       "      <td>0.10</td>\n",
       "      <td>3.0</td>\n",
       "      <td>1.0</td>\n",
       "      <td>289.0</td>\n",
       "      <td>Please no smoking in the house, porch or on th...</td>\n",
       "      <td>NaN</td>\n",
       "    </tr>\n",
       "  </tbody>\n",
       "</table>\n",
       "<p>5 rows × 26 columns</p>\n",
       "</div>"
      ],
      "text/plain": [
       "        id                                              NAME      host id  \\\n",
       "0  1001254                Clean & quiet apt home by the park  80014485718   \n",
       "1  1002102                             Skylit Midtown Castle  52335172823   \n",
       "2  1002403               THE VILLAGE OF HARLEM....NEW YORK !  78829239556   \n",
       "3  1002755                                               NaN  85098326012   \n",
       "4  1003689  Entire Apt: Spacious Studio/Loft by central park  92037596077   \n",
       "\n",
       "  host_identity_verified host name neighbourhood group neighbourhood  \\\n",
       "0            unconfirmed  Madaline            Brooklyn    Kensington   \n",
       "1               verified     Jenna           Manhattan       Midtown   \n",
       "2                    NaN     Elise           Manhattan        Harlem   \n",
       "3            unconfirmed     Garry            Brooklyn  Clinton Hill   \n",
       "4               verified    Lyndon           Manhattan   East Harlem   \n",
       "\n",
       "        lat      long        country  ... service fee minimum nights  \\\n",
       "0  40.64749 -73.97237  United States  ...       $193            10.0   \n",
       "1  40.75362 -73.98377  United States  ...        $28            30.0   \n",
       "2  40.80902 -73.94190  United States  ...       $124             3.0   \n",
       "3  40.68514 -73.95976  United States  ...        $74            30.0   \n",
       "4  40.79851 -73.94399  United States  ...        $41            10.0   \n",
       "\n",
       "  number of reviews last review  reviews per month review rate number  \\\n",
       "0               9.0  10/19/2021               0.21                4.0   \n",
       "1              45.0   5/21/2022               0.38                4.0   \n",
       "2               0.0         NaN                NaN                5.0   \n",
       "3             270.0    7/5/2019               4.64                4.0   \n",
       "4               9.0  11/19/2018               0.10                3.0   \n",
       "\n",
       "  calculated host listings count  availability 365  \\\n",
       "0                            6.0             286.0   \n",
       "1                            2.0             228.0   \n",
       "2                            1.0             352.0   \n",
       "3                            1.0             322.0   \n",
       "4                            1.0             289.0   \n",
       "\n",
       "                                         house_rules license  \n",
       "0  Clean up and treat the home the way you'd like...     NaN  \n",
       "1  Pet friendly but please confirm with me if the...     NaN  \n",
       "2  I encourage you to use my kitchen, cooking and...     NaN  \n",
       "3                                                NaN     NaN  \n",
       "4  Please no smoking in the house, porch or on th...     NaN  \n",
       "\n",
       "[5 rows x 26 columns]"
      ]
     },
     "execution_count": 3,
     "metadata": {},
     "output_type": "execute_result"
    }
   ],
   "source": [
    "airb.head()"
   ]
  },
  {
   "cell_type": "code",
   "execution_count": 4,
   "id": "87dde834",
   "metadata": {},
   "outputs": [
    {
     "data": {
      "text/plain": [
       "(102599, 26)"
      ]
     },
     "execution_count": 4,
     "metadata": {},
     "output_type": "execute_result"
    }
   ],
   "source": [
    "# check shape \n",
    "airb.shape"
   ]
  },
  {
   "cell_type": "code",
   "execution_count": 5,
   "id": "f4d84cd8",
   "metadata": {},
   "outputs": [
    {
     "data": {
      "text/plain": [
       "id                                     0\n",
       "NAME                                 250\n",
       "host id                                0\n",
       "host_identity_verified               289\n",
       "host name                            406\n",
       "neighbourhood group                   29\n",
       "neighbourhood                         16\n",
       "lat                                    8\n",
       "long                                   8\n",
       "country                              532\n",
       "country code                         131\n",
       "instant_bookable                     105\n",
       "cancellation_policy                   76\n",
       "room type                              0\n",
       "Construction year                    214\n",
       "price                                247\n",
       "service fee                          273\n",
       "minimum nights                       409\n",
       "number of reviews                    183\n",
       "last review                        15893\n",
       "reviews per month                  15879\n",
       "review rate number                   326\n",
       "calculated host listings count       319\n",
       "availability 365                     448\n",
       "house_rules                        52131\n",
       "license                           102597\n",
       "dtype: int64"
      ]
     },
     "execution_count": 5,
     "metadata": {},
     "output_type": "execute_result"
    }
   ],
   "source": [
    "# Check number of null values \n",
    "airb.isnull().sum()"
   ]
  },
  {
   "cell_type": "code",
   "execution_count": 30,
   "id": "8c82ffd5",
   "metadata": {},
   "outputs": [
    {
     "data": {
      "text/plain": [
       "license                           100.00\n",
       "house_rules                        50.81\n",
       "last review                        15.49\n",
       "reviews per month                  15.48\n",
       "country                             0.52\n",
       "availability 365                    0.44\n",
       "host name                           0.40\n",
       "minimum nights                      0.40\n",
       "review rate number                  0.32\n",
       "calculated host listings count      0.31\n",
       "host_identity_verified              0.28\n",
       "service fee                         0.27\n",
       "NAME                                0.24\n",
       "price                               0.24\n",
       "Construction year                   0.21\n",
       "number of reviews                   0.18\n",
       "country code                        0.13\n",
       "instant_bookable                    0.10\n",
       "cancellation_policy                 0.07\n",
       "neighbourhood group                 0.03\n",
       "neighbourhood                       0.02\n",
       "long                                0.01\n",
       "lat                                 0.01\n",
       "id                                  0.00\n",
       "host id                             0.00\n",
       "room type                           0.00\n",
       "dtype: float64"
      ]
     },
     "execution_count": 30,
     "metadata": {},
     "output_type": "execute_result"
    }
   ],
   "source": [
    "# percentage of null values \n",
    "null_val = round(airb.isnull().sum()*100 / len(airb), 2)\n",
    "null_val.sort_values(ascending = False)"
   ]
  },
  {
   "cell_type": "code",
   "execution_count": 33,
   "id": "a0a95ca3",
   "metadata": {},
   "outputs": [],
   "source": [
    "# drop the 'license' column \n",
    "airb.drop('license', axis = 'columns', inplace = True)"
   ]
  },
  {
   "cell_type": "markdown",
   "id": "ca3e64a9",
   "metadata": {},
   "source": [
    "### House rules"
   ]
  },
  {
   "cell_type": "code",
   "execution_count": 35,
   "id": "3178fe14",
   "metadata": {},
   "outputs": [],
   "source": [
    "# replace null values in 'house_rules' column with 'House rules not available' \n",
    "airb['house_rules'].fillna('House Rules Not Available', inplace = True)"
   ]
  },
  {
   "cell_type": "code",
   "execution_count": 115,
   "id": "e6a25435",
   "metadata": {},
   "outputs": [],
   "source": [
    "# change string case to lower \n",
    "airb['house_rules'] = airb['house_rules'].str.lower()"
   ]
  },
  {
   "cell_type": "code",
   "execution_count": 37,
   "id": "03245c0b",
   "metadata": {},
   "outputs": [],
   "source": [
    "pd.set_option('display.max_columns', None)"
   ]
  },
  {
   "cell_type": "code",
   "execution_count": 66,
   "id": "20565a08",
   "metadata": {},
   "outputs": [
    {
     "data": {
      "text/plain": [
       "id                                    0\n",
       "NAME                                250\n",
       "host id                               0\n",
       "host_identity_verified              289\n",
       "host name                           406\n",
       "neighbourhood group                  29\n",
       "neighbourhood                        16\n",
       "lat                                   8\n",
       "long                                  8\n",
       "instant_bookable                    105\n",
       "cancellation_policy                  76\n",
       "room type                             0\n",
       "Construction year                   214\n",
       "price                               247\n",
       "service fee                         273\n",
       "minimum nights                      409\n",
       "number of reviews                   183\n",
       "last review                       15893\n",
       "reviews per month                 15879\n",
       "review rate number                  326\n",
       "calculated host listings count      319\n",
       "availability 365                    448\n",
       "house_rules                           0\n",
       "dtype: int64"
      ]
     },
     "execution_count": 66,
     "metadata": {},
     "output_type": "execute_result"
    }
   ],
   "source": [
    "airb.isnull().sum()"
   ]
  },
  {
   "cell_type": "code",
   "execution_count": 48,
   "id": "688ba1ce",
   "metadata": {},
   "outputs": [],
   "source": [
    "# drop columns \n",
    "airb.drop(columns = ['country', 'country code'], inplace = True)"
   ]
  },
  {
   "cell_type": "code",
   "execution_count": 73,
   "id": "8874ae13",
   "metadata": {},
   "outputs": [
    {
     "data": {
      "text/plain": [
       "(102599, 23)"
      ]
     },
     "execution_count": 73,
     "metadata": {},
     "output_type": "execute_result"
    }
   ],
   "source": [
    "airb.shape"
   ]
  },
  {
   "cell_type": "code",
   "execution_count": 80,
   "id": "f2cf5f1b",
   "metadata": {},
   "outputs": [
    {
     "data": {
      "text/plain": [
       "0"
      ]
     },
     "execution_count": 80,
     "metadata": {},
     "output_type": "execute_result"
    }
   ],
   "source": [
    "airb['price'].isnull().sum()"
   ]
  },
  {
   "cell_type": "markdown",
   "id": "3051cedf",
   "metadata": {},
   "source": [
    "### Price"
   ]
  },
  {
   "cell_type": "code",
   "execution_count": 79,
   "id": "48140146",
   "metadata": {},
   "outputs": [],
   "source": [
    "# drop rows with null price column \n",
    "airb.dropna(subset = ['price'], axis = 0, inplace = True)"
   ]
  },
  {
   "cell_type": "code",
   "execution_count": 57,
   "id": "910bcc5b",
   "metadata": {},
   "outputs": [
    {
     "data": {
      "text/plain": [
       "dtype('O')"
      ]
     },
     "execution_count": 57,
     "metadata": {},
     "output_type": "execute_result"
    }
   ],
   "source": [
    "# check dtype\n",
    "airb.price.dtype"
   ]
  },
  {
   "cell_type": "code",
   "execution_count": 64,
   "id": "84662d07",
   "metadata": {},
   "outputs": [
    {
     "name": "stderr",
     "output_type": "stream",
     "text": [
      "<ipython-input-64-4bbe306cd759>:2: FutureWarning: The default value of regex will change from True to False in a future version.\n",
      "  airb['price'] = airb['price'].str.replace(r'[^0-9]+', '')\n"
     ]
    }
   ],
   "source": [
    "# strip off the $ sign \\\n",
    "airb['price'] = airb['price'].str.replace(r'[^0-9]+', '') "
   ]
  },
  {
   "cell_type": "code",
   "execution_count": 82,
   "id": "f0e69969",
   "metadata": {},
   "outputs": [],
   "source": [
    "# change data type to int \n",
    "airb['price'] = airb['price'].astype('int')"
   ]
  },
  {
   "cell_type": "code",
   "execution_count": 85,
   "id": "fe21c2b0",
   "metadata": {},
   "outputs": [
    {
     "data": {
      "text/plain": [
       "dtype('int32')"
      ]
     },
     "execution_count": 85,
     "metadata": {},
     "output_type": "execute_result"
    }
   ],
   "source": [
    "airb.price.dtype"
   ]
  },
  {
   "cell_type": "code",
   "execution_count": 92,
   "id": "eb75ea8c",
   "metadata": {},
   "outputs": [
    {
     "data": {
      "text/plain": [
       "(102352, 23)"
      ]
     },
     "execution_count": 92,
     "metadata": {},
     "output_type": "execute_result"
    }
   ],
   "source": [
    "airb.shape"
   ]
  },
  {
   "cell_type": "code",
   "execution_count": 93,
   "id": "6f0ecc7e",
   "metadata": {},
   "outputs": [],
   "source": [
    "# drop columns with significant geographical nulls\n",
    "airb.dropna(subset = ['neighbourhood group', 'neighbourhood', 'lat', 'long'], axis = 0, inplace = True)"
   ]
  },
  {
   "cell_type": "code",
   "execution_count": 96,
   "id": "1da1ff0a",
   "metadata": {},
   "outputs": [
    {
     "data": {
      "text/plain": [
       "id                                    0\n",
       "NAME                                245\n",
       "host id                               0\n",
       "host_identity_verified              277\n",
       "host name                           400\n",
       "neighbourhood group                   0\n",
       "neighbourhood                         0\n",
       "lat                                   0\n",
       "long                                  0\n",
       "instant_bookable                     98\n",
       "cancellation_policy                  69\n",
       "room type                             0\n",
       "Construction year                   204\n",
       "price                                 0\n",
       "service fee                         239\n",
       "minimum nights                      407\n",
       "number of reviews                   183\n",
       "last review                       15862\n",
       "reviews per month                 15849\n",
       "review rate number                  324\n",
       "calculated host listings count      319\n",
       "availability 365                    436\n",
       "house_rules                           0\n",
       "dtype: int64"
      ]
     },
     "execution_count": 96,
     "metadata": {},
     "output_type": "execute_result"
    }
   ],
   "source": [
    "airb.isnull().sum()"
   ]
  },
  {
   "cell_type": "markdown",
   "id": "dd6d6bea",
   "metadata": {},
   "source": [
    "### Host identity verified "
   ]
  },
  {
   "cell_type": "code",
   "execution_count": 97,
   "id": "c14cbe16",
   "metadata": {},
   "outputs": [
    {
     "data": {
      "text/plain": [
       "array(['unconfirmed', 'verified', nan], dtype=object)"
      ]
     },
     "execution_count": 97,
     "metadata": {},
     "output_type": "execute_result"
    }
   ],
   "source": [
    "airb.host_identity_verified.unique()"
   ]
  },
  {
   "cell_type": "code",
   "execution_count": 99,
   "id": "e3b2da44",
   "metadata": {},
   "outputs": [],
   "source": [
    "# drop host_identity_verified rows with null values\n",
    "airb.dropna(subset = ['host_identity_verified'], axis = 0, inplace = True)"
   ]
  },
  {
   "cell_type": "code",
   "execution_count": 104,
   "id": "3d8e884b",
   "metadata": {},
   "outputs": [],
   "source": [
    "# change 'unconfirmed' to 'unverified' \n",
    "airb['host_identity_verified'].replace({'unconfirmed':'unverified'}, inplace = True)"
   ]
  },
  {
   "cell_type": "markdown",
   "id": "8c0d3b32",
   "metadata": {},
   "source": [
    "### Availability 365 \n",
    "\n",
    "#### This reveals how often the listing is available"
   ]
  },
  {
   "cell_type": "code",
   "execution_count": 106,
   "id": "6ec17f9d",
   "metadata": {},
   "outputs": [],
   "source": [
    "# drop null values \n",
    "airb.dropna(subset = ['availability 365'], axis = 0, inplace = True)"
   ]
  },
  {
   "cell_type": "code",
   "execution_count": 116,
   "id": "3a000192",
   "metadata": {},
   "outputs": [],
   "source": [
    "# change dtype to int \n",
    "airb['availability 365'] = airb['availability 365'].astype('int')"
   ]
  },
  {
   "cell_type": "markdown",
   "id": "9f91234c",
   "metadata": {},
   "source": [
    "### Instant bookable and Cancellation policy \n",
    "\n",
    "#### These features are important in helping clients make a decision. Null values should be dropped"
   ]
  },
  {
   "cell_type": "code",
   "execution_count": 110,
   "id": "433d0eed",
   "metadata": {},
   "outputs": [],
   "source": [
    "# drop null values \n",
    "airb.dropna(subset = ['instant_bookable', 'cancellation_policy'], axis = 0, inplace = True)"
   ]
  },
  {
   "cell_type": "code",
   "execution_count": 111,
   "id": "68b1a701",
   "metadata": {},
   "outputs": [
    {
     "data": {
      "text/plain": [
       "id                                    0\n",
       "NAME                                216\n",
       "host id                               0\n",
       "host_identity_verified                0\n",
       "host name                           385\n",
       "neighbourhood group                   0\n",
       "neighbourhood                         0\n",
       "lat                                   0\n",
       "long                                  0\n",
       "instant_bookable                      0\n",
       "cancellation_policy                   0\n",
       "room type                             0\n",
       "Construction year                   168\n",
       "price                                 0\n",
       "service fee                         235\n",
       "minimum nights                      369\n",
       "number of reviews                   129\n",
       "last review                       15545\n",
       "reviews per month                 15539\n",
       "review rate number                  284\n",
       "calculated host listings count      310\n",
       "availability 365                      0\n",
       "house_rules                           0\n",
       "dtype: int64"
      ]
     },
     "execution_count": 111,
     "metadata": {},
     "output_type": "execute_result"
    }
   ],
   "source": [
    "airb.isnull().sum()"
   ]
  },
  {
   "cell_type": "markdown",
   "id": "f9fc910c",
   "metadata": {},
   "source": [
    "### Number of reviews and Last review "
   ]
  },
  {
   "cell_type": "code",
   "execution_count": 118,
   "id": "7819176b",
   "metadata": {},
   "outputs": [],
   "source": [
    "# drop null rows \n",
    "airb.dropna(subset = ['number of reviews', 'last review'], axis = 0, inplace = True)"
   ]
  },
  {
   "cell_type": "code",
   "execution_count": 120,
   "id": "1a56e03a",
   "metadata": {},
   "outputs": [
    {
     "data": {
      "text/plain": [
       "(85907, 23)"
      ]
     },
     "execution_count": 120,
     "metadata": {},
     "output_type": "execute_result"
    }
   ],
   "source": [
    "airb.shape"
   ]
  },
  {
   "cell_type": "code",
   "execution_count": 126,
   "id": "ed38113e",
   "metadata": {},
   "outputs": [
    {
     "data": {
      "text/plain": [
       "id                                  0\n",
       "NAME                              179\n",
       "host id                             0\n",
       "host_identity_verified              0\n",
       "host name                         309\n",
       "neighbourhood group                 0\n",
       "neighbourhood                       0\n",
       "lat                                 0\n",
       "long                                0\n",
       "instant_bookable                    0\n",
       "cancellation_policy                 0\n",
       "room type                           0\n",
       "Construction year                   0\n",
       "price                               0\n",
       "service fee                       207\n",
       "minimum nights                    307\n",
       "number of reviews                   0\n",
       "last review                         0\n",
       "reviews per month                   6\n",
       "review rate number                197\n",
       "calculated host listings count      0\n",
       "availability 365                    0\n",
       "house_rules                         0\n",
       "dtype: int64"
      ]
     },
     "execution_count": 126,
     "metadata": {},
     "output_type": "execute_result"
    }
   ],
   "source": [
    "airb.isnull().sum()"
   ]
  },
  {
   "cell_type": "code",
   "execution_count": 125,
   "id": "8c9c8601",
   "metadata": {},
   "outputs": [],
   "source": [
    "# drop null rows \n",
    "airb.dropna(subset = ['Construction year', 'calculated host listings count'], axis = 0, inplace = True)"
   ]
  },
  {
   "cell_type": "markdown",
   "id": "1fdffb11",
   "metadata": {},
   "source": [
    "### Service fee"
   ]
  },
  {
   "cell_type": "code",
   "execution_count": 129,
   "id": "cb11a95d",
   "metadata": {},
   "outputs": [
    {
     "name": "stderr",
     "output_type": "stream",
     "text": [
      "<ipython-input-129-ff5cb9ae741b>:2: FutureWarning: The default value of regex will change from True to False in a future version.\n",
      "  airb['service fee'] = airb['service fee'].str.replace(r'[^0-9]+', '')\n"
     ]
    }
   ],
   "source": [
    "# remove $ sign \n",
    "airb['service fee'] = airb['service fee'].str.replace(r'[^0-9]+', '')"
   ]
  },
  {
   "cell_type": "code",
   "execution_count": 130,
   "id": "b1e378da",
   "metadata": {},
   "outputs": [
    {
     "data": {
      "text/plain": [
       "dtype('O')"
      ]
     },
     "execution_count": 130,
     "metadata": {},
     "output_type": "execute_result"
    }
   ],
   "source": [
    "airb['service fee'].dtype"
   ]
  },
  {
   "cell_type": "code",
   "execution_count": 142,
   "id": "45020094",
   "metadata": {},
   "outputs": [],
   "source": [
    "# change dtype to 'int'\n",
    "airb['service fee'] = pd.to_numeric(airb['service fee'])"
   ]
  },
  {
   "cell_type": "code",
   "execution_count": 143,
   "id": "31e7e49a",
   "metadata": {},
   "outputs": [
    {
     "data": {
      "text/plain": [
       "dtype('float64')"
      ]
     },
     "execution_count": 143,
     "metadata": {},
     "output_type": "execute_result"
    }
   ],
   "source": [
    "airb['service fee'].dtype"
   ]
  },
  {
   "cell_type": "code",
   "execution_count": 144,
   "id": "205c0164",
   "metadata": {},
   "outputs": [
    {
     "data": {
      "text/plain": [
       "207"
      ]
     },
     "execution_count": 144,
     "metadata": {},
     "output_type": "execute_result"
    }
   ],
   "source": [
    "airb['service fee'].isnull().sum()"
   ]
  },
  {
   "cell_type": "code",
   "execution_count": null,
   "id": "25dbe600",
   "metadata": {},
   "outputs": [],
   "source": []
  },
  {
   "cell_type": "code",
   "execution_count": 156,
   "id": "e494dc0a",
   "metadata": {},
   "outputs": [
    {
     "data": {
      "text/plain": [
       "(array([8490., 8453., 8309., 8825., 8659., 8644., 8379., 8485., 8592.,\n",
       "        8674.]),\n",
       " array([  50.,  165.,  280.,  395.,  510.,  625.,  740.,  855.,  970.,\n",
       "        1085., 1200.]),\n",
       " <BarContainer object of 10 artists>)"
      ]
     },
     "execution_count": 156,
     "metadata": {},
     "output_type": "execute_result"
    },
    {
     "data": {
      "image/png": "[encoded data removed]",
      "text/plain": [
       "<Figure size 432x288 with 1 Axes>"
      ]
     },
     "metadata": {},
     "output_type": "display_data"
    }
   ],
   "source": [
    "# price histogram\n",
    "plt.hist(airb['price'])"
   ]
  },
  {
   "cell_type": "markdown",
   "id": "9df37381",
   "metadata": {},
   "source": [
    "##### since the price sitribution is uniform, fill null values with groupby mean of neighbourhood"
   ]
  },
  {
   "cell_type": "code",
   "execution_count": 148,
   "id": "a49e76ba",
   "metadata": {},
   "outputs": [],
   "source": [
    "airb['service fee'] = airb['service fee'].fillna(airb.groupby('neighbourhood')['service fee'].transform('mean'))"
   ]
  },
  {
   "cell_type": "markdown",
   "id": "c16cd0df",
   "metadata": {},
   "source": [
    "### Minimum nights"
   ]
  },
  {
   "cell_type": "code",
   "execution_count": 163,
   "id": "718c07f0",
   "metadata": {},
   "outputs": [
    {
     "data": {
      "text/plain": [
       "(array([8.5195e+04, 5.0000e+00, 1.0000e+00, 0.0000e+00, 1.0000e+00,\n",
       "        0.0000e+00, 0.0000e+00, 0.0000e+00, 0.0000e+00, 1.0000e+00]),\n",
       " array([1.0000e+00, 5.6540e+02, 1.1298e+03, 1.6942e+03, 2.2586e+03,\n",
       "        2.8230e+03, 3.3874e+03, 3.9518e+03, 4.5162e+03, 5.0806e+03,\n",
       "        5.6450e+03]),\n",
       " <BarContainer object of 10 artists>)"
      ]
     },
     "execution_count": 163,
     "metadata": {},
     "output_type": "execute_result"
    },
    {
     "data": {
      "image/png": "[encoded data removed]",
      "text/plain": [
       "<Figure size 432x288 with 1 Axes>"
      ]
     },
     "metadata": {},
     "output_type": "display_data"
    }
   ],
   "source": [
    "plt.hist(airb['minimum nights'])"
   ]
  },
  {
   "cell_type": "markdown",
   "id": "0cea1358",
   "metadata": {},
   "source": [
    "##### It is most likely an error to have a negative value in minimum nights and a value > 30 days(1 Month)"
   ]
  },
  {
   "cell_type": "code",
   "execution_count": 164,
   "id": "1d229a0f",
   "metadata": {},
   "outputs": [],
   "source": [
    "# get rid of the negative sign\n",
    "airb['minimum nights'] = airb['minimum nights'].abs()"
   ]
  },
  {
   "cell_type": "code",
   "execution_count": 167,
   "id": "8885d823",
   "metadata": {},
   "outputs": [
    {
     "data": {
      "text/plain": [
       "(array([6.6595e+04, 5.3010e+03, 1.4380e+03, 8.7000e+01, 5.0600e+02,\n",
       "        7.6700e+02, 9.7130e+03, 3.6000e+01, 2.3000e+01, 7.2000e+01]),\n",
       " array([ 1. ,  5.7, 10.4, 15.1, 19.8, 24.5, 29.2, 33.9, 38.6, 43.3, 48. ]),\n",
       " <BarContainer object of 10 artists>)"
      ]
     },
     "execution_count": 167,
     "metadata": {},
     "output_type": "execute_result"
    },
    {
     "data": {
      "image/png": "[encoded data removed]",
      "text/plain": [
       "<Figure size 432x288 with 1 Axes>"
      ]
     },
     "metadata": {},
     "output_type": "display_data"
    }
   ],
   "source": [
    "plt.hist(airb[airb['minimum nights'] < 50]['minimum nights'])"
   ]
  },
  {
   "cell_type": "code",
   "execution_count": 175,
   "id": "1c89d80c",
   "metadata": {},
   "outputs": [],
   "source": [
    "# replace rows with minimum nights > 30 with 30 \n",
    "airb['minimum nights'].values[airb['minimum nights'] > 30] = 30"
   ]
  },
  {
   "cell_type": "code",
   "execution_count": 177,
   "id": "89e93279",
   "metadata": {},
   "outputs": [
    {
     "data": {
      "text/plain": [
       "(array([5.5984e+04, 1.1887e+04, 3.3130e+03, 8.7500e+02, 1.2750e+03,\n",
       "        7.6000e+01, 4.8100e+02, 3.6000e+01, 1.7000e+02, 1.1106e+04]),\n",
       " array([ 1. ,  3.9,  6.8,  9.7, 12.6, 15.5, 18.4, 21.3, 24.2, 27.1, 30. ]),\n",
       " <BarContainer object of 10 artists>)"
      ]
     },
     "execution_count": 177,
     "metadata": {},
     "output_type": "execute_result"
    },
    {
     "data": {
      "image/png": "[encoded data removed]",
      "text/plain": [
       "<Figure size 432x288 with 1 Axes>"
      ]
     },
     "metadata": {},
     "output_type": "display_data"
    }
   ],
   "source": [
    "plt.hist(airb['minimum nights'])"
   ]
  },
  {
   "cell_type": "markdown",
   "id": "8902b7e0",
   "metadata": {},
   "source": [
    "##### Because the histogram is positively skewed, we will fill the null values with median rather than mean"
   ]
  },
  {
   "cell_type": "code",
   "execution_count": 184,
   "id": "1ed40104",
   "metadata": {},
   "outputs": [],
   "source": [
    "# fill null values\n",
    "airb['minimum nights'] = airb['minimum nights'].fillna(airb['minimum nights'].median())"
   ]
  },
  {
   "cell_type": "code",
   "execution_count": 186,
   "id": "2e6eed8c",
   "metadata": {},
   "outputs": [
    {
     "data": {
      "text/plain": [
       "id                                  0\n",
       "NAME                              179\n",
       "host id                             0\n",
       "host_identity_verified              0\n",
       "host name                         309\n",
       "neighbourhood group                 0\n",
       "neighbourhood                       0\n",
       "lat                                 0\n",
       "long                                0\n",
       "instant_bookable                    0\n",
       "cancellation_policy                 0\n",
       "room type                           0\n",
       "Construction year                   0\n",
       "price                               0\n",
       "service fee                         0\n",
       "minimum nights                      0\n",
       "number of reviews                   0\n",
       "last review                         0\n",
       "reviews per month                   6\n",
       "review rate number                197\n",
       "calculated host listings count      0\n",
       "availability 365                    0\n",
       "house_rules                         0\n",
       "dtype: int64"
      ]
     },
     "execution_count": 186,
     "metadata": {},
     "output_type": "execute_result"
    }
   ],
   "source": [
    "airb.isnull().sum()"
   ]
  },
  {
   "cell_type": "markdown",
   "id": "b80bc29c",
   "metadata": {},
   "source": [
    "### NAME"
   ]
  },
  {
   "cell_type": "code",
   "execution_count": 188,
   "id": "5af7affe",
   "metadata": {},
   "outputs": [],
   "source": [
    "# replace null values wqith 'No listing Name' \n",
    "airb['NAME'].fillna('No Listing Name', inplace = True)"
   ]
  },
  {
   "cell_type": "code",
   "execution_count": 189,
   "id": "47906c5c",
   "metadata": {},
   "outputs": [
    {
     "data": {
      "text/plain": [
       "id                                  0\n",
       "NAME                                0\n",
       "host id                             0\n",
       "host_identity_verified              0\n",
       "host name                         309\n",
       "neighbourhood group                 0\n",
       "neighbourhood                       0\n",
       "lat                                 0\n",
       "long                                0\n",
       "instant_bookable                    0\n",
       "cancellation_policy                 0\n",
       "room type                           0\n",
       "Construction year                   0\n",
       "price                               0\n",
       "service fee                         0\n",
       "minimum nights                      0\n",
       "number of reviews                   0\n",
       "last review                         0\n",
       "reviews per month                   6\n",
       "review rate number                197\n",
       "calculated host listings count      0\n",
       "availability 365                    0\n",
       "house_rules                         0\n",
       "dtype: int64"
      ]
     },
     "execution_count": 189,
     "metadata": {},
     "output_type": "execute_result"
    }
   ],
   "source": [
    "airb.isnull().sum()"
   ]
  },
  {
   "cell_type": "markdown",
   "id": "5c615da0",
   "metadata": {},
   "source": [
    "### Host Name"
   ]
  },
  {
   "cell_type": "code",
   "execution_count": 192,
   "id": "357cca73",
   "metadata": {},
   "outputs": [],
   "source": [
    "# replace null values wqith 'No Host Name' \n",
    "airb['host name'].fillna('No Host Name', inplace = True)"
   ]
  },
  {
   "cell_type": "markdown",
   "id": "8294ec61",
   "metadata": {},
   "source": [
    "### Review rate number"
   ]
  },
  {
   "cell_type": "code",
   "execution_count": 206,
   "id": "0f2b5bfb",
   "metadata": {},
   "outputs": [
    {
     "data": {
      "text/plain": [
       "[4.0, 3.0, 5.0, nan, 2.0, 1.0]"
      ]
     },
     "execution_count": 206,
     "metadata": {},
     "output_type": "execute_result"
    }
   ],
   "source": [
    "airb['review rate number'].unique().to_list()"
   ]
  },
  {
   "cell_type": "code",
   "execution_count": 197,
   "id": "dc06b7ef",
   "metadata": {},
   "outputs": [
    {
     "data": {
      "text/plain": [
       "dtype('float64')"
      ]
     },
     "execution_count": 197,
     "metadata": {},
     "output_type": "execute_result"
    }
   ],
   "source": [
    "airb['review rate number'].dtype"
   ]
  },
  {
   "cell_type": "code",
   "execution_count": 201,
   "id": "69074f97",
   "metadata": {},
   "outputs": [],
   "source": [
    "# change dtype to 'category'\n",
    "airb['review rate number'] = airb['review rate number'].astype('category')"
   ]
  },
  {
   "cell_type": "code",
   "execution_count": 205,
   "id": "b9df5754",
   "metadata": {},
   "outputs": [
    {
     "data": {
      "text/plain": [
       "197"
      ]
     },
     "execution_count": 205,
     "metadata": {},
     "output_type": "execute_result"
    }
   ],
   "source": [
    "airb['review rate number'].isnull().sum()"
   ]
  },
  {
   "cell_type": "code",
   "execution_count": 210,
   "id": "0b3f6fce",
   "metadata": {},
   "outputs": [],
   "source": [
    "# fill null value with mid rating(3)\n",
    "airb['review rate number'].fillna(3.0, inplace = True)"
   ]
  },
  {
   "cell_type": "code",
   "execution_count": 211,
   "id": "5505ce8e",
   "metadata": {},
   "outputs": [
    {
     "data": {
      "text/plain": [
       "id                                0\n",
       "NAME                              0\n",
       "host id                           0\n",
       "host_identity_verified            0\n",
       "host name                         0\n",
       "neighbourhood group               0\n",
       "neighbourhood                     0\n",
       "lat                               0\n",
       "long                              0\n",
       "instant_bookable                  0\n",
       "cancellation_policy               0\n",
       "room type                         0\n",
       "Construction year                 0\n",
       "price                             0\n",
       "service fee                       0\n",
       "minimum nights                    0\n",
       "number of reviews                 0\n",
       "last review                       0\n",
       "reviews per month                 6\n",
       "review rate number                0\n",
       "calculated host listings count    0\n",
       "availability 365                  0\n",
       "house_rules                       0\n",
       "dtype: int64"
      ]
     },
     "execution_count": 211,
     "metadata": {},
     "output_type": "execute_result"
    }
   ],
   "source": [
    "airb.isnull().sum()"
   ]
  },
  {
   "cell_type": "code",
   "execution_count": 215,
   "id": "f3775bf6",
   "metadata": {},
   "outputs": [],
   "source": [
    "airb.to_csv('Desktop/Cleaned_AirBnB_Open_Data.csv', index = False)"
   ]
  },
  {
   "cell_type": "code",
   "execution_count": null,
   "id": "9b8c1552",
   "metadata": {},
   "outputs": [],
   "source": []
  }
 ],
 "metadata": {
  "kernelspec": {
   "display_name": "Python 3",
   "language": "python",
   "name": "python3"
  },
  "language_info": {
   "codemirror_mode": {
    "name": "ipython",
    "version": 3
   },
   "file_extension": ".py",
   "mimetype": "text/x-python",
   "name": "python",
   "nbconvert_exporter": "python",
   "pygments_lexer": "ipython3",
   "version": "3.8.8"
  }
 },
 "nbformat": 4,
 "nbformat_minor": 5
}
